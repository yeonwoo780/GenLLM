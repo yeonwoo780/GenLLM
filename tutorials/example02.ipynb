{
 "cells": [
  {
   "cell_type": "markdown",
   "id": "b7cf6eb1",
   "metadata": {},
   "source": [
    "#### 주요 구성 요소\n",
    "- 상태 관리: TypedDict를 사용하여 각 고객 상호작용의 상태를 정의하고 관리.\n",
    "- 쿼리 분류: 고객 쿼리를 기술, 청구 또는 일반 범주로 분류.\n",
    "- 감정 분석: 고객 쿼리의 감정적 톤을 파악.\n",
    "- 응답 생성: 쿼리 범주 및 감정을 기반으로 적절한 응답을 생성.\n",
    "- 에스컬레이션 메커니즘: 부정적인 감정을 가진 쿼리를 자동으로 상담원에게 에스컬레이션.\n",
    "- 워크플로 그래프: LangGraph를 활용하여 유연하고 확장 가능한 워크플로를 생성."
   ]
  },
  {
   "cell_type": "markdown",
   "id": "d7e14d22",
   "metadata": {},
   "source": [
    "#### 메서드 세부 정보\n",
    "\n",
    "- 초기화: 환경을 설정하고 필요한 라이브러리를 가져옵니다.\n",
    "- 상태 정의: 쿼리 정보, 카테고리, 감정 및 응답을 보관하는 구조를 생성합니다.\n",
    "- 노드 함수: 분류, 감정 분석 및 응답 생성을 위한 별도의 함수를 구현합니다.\n",
    "- 그래프 생성: StateGraph를 사용하여 워크플로를 정의하고, 지원 프로세스를 나타내는 노드와 에지를 추가합니다.\n",
    "- 조건부 라우팅: 카테고리 및 감정에 따라 쿼리를 라우팅하는 로직을 구현합니다.\n",
    "- 워크플로 컴파일: 그래프를 실행 가능한 애플리케이션으로 컴파일합니다.\n",
    "- 실행: 워크플로를 통해 고객 쿼리를 처리하고 결과를 검색합니다."
   ]
  },
  {
   "cell_type": "code",
   "execution_count": null,
   "id": "ffc28187",
   "metadata": {},
   "outputs": [],
   "source": [
    "from typing import Dict, TypedDict\n",
    "from langgraph.graph import StateGraph, END\n",
    "from langchain_core.prompts import ChatPromptTemplate\n",
    "from langchain_openai import ChatOpenAI\n",
    "\n",
    "from IPython.display import display, Image\n",
    "from langchain_core.runnables.graph import MermaidDrawMethod\n",
    "from dotenv import load_dotenv\n",
    "import os\n",
    "\n",
    "# Load environment variables and set OpenAI API key\n",
    "os.environ[\"OPENAI_API_KEY\"] = os.getenv('OPENAI_API_KEY')"
   ]
  },
  {
   "cell_type": "code",
   "execution_count": 2,
   "id": "fc471d6f",
   "metadata": {},
   "outputs": [],
   "source": [
    "class State(TypedDict):\n",
    "    query: str\n",
    "    category: str\n",
    "    sentiment: str\n",
    "    response: str"
   ]
  },
  {
   "cell_type": "code",
   "execution_count": 3,
   "id": "97f8e246",
   "metadata": {},
   "outputs": [],
   "source": [
    "def categorize(state: State) -> State:\n",
    "    \"\"\"Categorize the customer query into Technical, Billing, or General.\"\"\"\n",
    "    prompt = ChatPromptTemplate.from_template(\n",
    "        \"Categorize the following customer query into one of these categories: \"\n",
    "        \"Technical, Billing, General. Query: {query}\"\n",
    "    )\n",
    "    chain = prompt | ChatOpenAI(model=\"gpt-4.1-2025-04-14\", temperature=0.0)\n",
    "    category = chain.invoke({\"query\": state[\"query\"]}).content\n",
    "    return {\"category\": category}\n",
    "\n",
    "def analyze_sentiment(state: State) -> State:\n",
    "    \"\"\"Analyze the sentiment of the customer query as Positive, Neutral, or Negative.\"\"\"\n",
    "    prompt = ChatPromptTemplate.from_template(\n",
    "        \"Analyze the sentiment of the following customer query. \"\n",
    "        \"Respond with either 'Positive', 'Neutral', or 'Negative'. Query: {query}\"\n",
    "    )\n",
    "    chain = prompt | ChatOpenAI(model=\"gpt-4.1-2025-04-14\", temperature=0.0)\n",
    "    sentiment = chain.invoke({\"query\": state[\"query\"]}).content\n",
    "    return {\"sentiment\": sentiment}\n",
    "\n",
    "def handle_technical(state: State) -> State:\n",
    "    \"\"\"Provide a technical support response to the query.\"\"\"\n",
    "    prompt = ChatPromptTemplate.from_template(\n",
    "        \"Provide a technical support response to the following query: {query}\"\n",
    "    )\n",
    "    chain = prompt | ChatOpenAI(model=\"gpt-4.1-2025-04-14\", temperature=0.0)\n",
    "    response = chain.invoke({\"query\": state[\"query\"]}).content\n",
    "    return {\"response\": response}\n",
    "\n",
    "def handle_billing(state: State) -> State:\n",
    "    \"\"\"Provide a billing support response to the query.\"\"\"\n",
    "    prompt = ChatPromptTemplate.from_template(\n",
    "        \"Provide a billing support response to the following query: {query}\"\n",
    "    )\n",
    "    chain = prompt | ChatOpenAI(model=\"gpt-4.1-2025-04-14\", temperature=0.0)\n",
    "    response = chain.invoke({\"query\": state[\"query\"]}).content\n",
    "    return {\"response\": response}\n",
    "\n",
    "def handle_general(state: State) -> State:\n",
    "    \"\"\"Provide a general support response to the query.\"\"\"\n",
    "    prompt = ChatPromptTemplate.from_template(\n",
    "        \"Provide a general support response to the following query: {query}\"\n",
    "    )\n",
    "    chain = prompt | ChatOpenAI(model=\"gpt-4.1-2025-04-14\", temperature=0.0)\n",
    "    response = chain.invoke({\"query\": state[\"query\"]}).content\n",
    "    return {\"response\": response}\n",
    "\n",
    "def escalate(state: State) -> State:\n",
    "    \"\"\"Escalate the query to a human agent due to negative sentiment.\"\"\"\n",
    "    return {\"response\": \"This query has been escalated to a human agent due to its negative sentiment.\"}\n",
    "\n",
    "def route_query(state: State) -> str:\n",
    "    \"\"\"Route the query based on its sentiment and category.\"\"\"\n",
    "    if state[\"sentiment\"] == \"Negative\":\n",
    "        return \"escalate\"\n",
    "    elif state[\"category\"] == \"Technical\":\n",
    "        return \"handle_technical\"\n",
    "    elif state[\"category\"] == \"Billing\":\n",
    "        return \"handle_billing\"\n",
    "    else:\n",
    "        return \"handle_general\""
   ]
  },
  {
   "cell_type": "code",
   "execution_count": 4,
   "id": "0c75e090",
   "metadata": {},
   "outputs": [],
   "source": [
    "# Create the graph\n",
    "workflow = StateGraph(State)\n",
    "\n",
    "# Add nodes\n",
    "workflow.add_node(\"categorize\", categorize)\n",
    "workflow.add_node(\"analyze_sentiment\", analyze_sentiment)\n",
    "workflow.add_node(\"handle_technical\", handle_technical)\n",
    "workflow.add_node(\"handle_billing\", handle_billing)\n",
    "workflow.add_node(\"handle_general\", handle_general)\n",
    "workflow.add_node(\"escalate\", escalate)\n",
    "\n",
    "# Add edges\n",
    "workflow.add_edge(\"categorize\", \"analyze_sentiment\")\n",
    "workflow.add_conditional_edges(\n",
    "    \"analyze_sentiment\",\n",
    "    route_query,\n",
    "    {\n",
    "        \"handle_technical\": \"handle_technical\",\n",
    "        \"handle_billing\": \"handle_billing\",\n",
    "        \"handle_general\": \"handle_general\",\n",
    "        \"escalate\": \"escalate\"\n",
    "    }\n",
    ")\n",
    "workflow.add_edge(\"handle_technical\", END)\n",
    "workflow.add_edge(\"handle_billing\", END)\n",
    "workflow.add_edge(\"handle_general\", END)\n",
    "workflow.add_edge(\"escalate\", END)\n",
    "\n",
    "# Set entry point\n",
    "workflow.set_entry_point(\"categorize\")\n",
    "\n",
    "# Compile the graph\n",
    "app = workflow.compile()"
   ]
  },
  {
   "cell_type": "code",
   "execution_count": 5,
   "id": "3e4c891e",
   "metadata": {},
   "outputs": [
    {
     "data": {
      "image/png": "[encoded data removed]",
      "text/plain": [
       "<IPython.core.display.Image object>"
      ]
     },
     "metadata": {},
     "output_type": "display_data"
    }
   ],
   "source": [
    "display(\n",
    "    Image(\n",
    "        app.get_graph().draw_mermaid_png(\n",
    "            draw_method=MermaidDrawMethod.API,\n",
    "        )\n",
    "    )\n",
    ")"
   ]
  },
  {
   "cell_type": "code",
   "execution_count": 6,
   "id": "87a38cce",
   "metadata": {},
   "outputs": [],
   "source": [
    "def run_customer_support(query: str) -> Dict[str, str]:\n",
    "    \"\"\"Process a customer query through the LangGraph workflow.\n",
    "    \n",
    "    Args:\n",
    "        query (str): The customer's query\n",
    "        \n",
    "    Returns:\n",
    "        Dict[str, str]: A dictionary containing the query's category, sentiment, and response\n",
    "    \"\"\"\n",
    "    results = app.invoke({\"query\": query})\n",
    "    return {\n",
    "        \"category\": results[\"category\"],\n",
    "        \"sentiment\": results[\"sentiment\"],\n",
    "        \"response\": results[\"response\"]\n",
    "    }"
   ]
  },
  {
   "cell_type": "code",
   "execution_count": 7,
   "id": "7e39ec13",
   "metadata": {},
   "outputs": [
    {
     "name": "stdout",
     "output_type": "stream",
     "text": [
      "Query: My internet connection keeps dropping. Can you help?\n",
      "Category: Category: Technical\n",
      "Sentiment: Negative\n",
      "Response: This query has been escalated to a human agent due to its negative sentiment.\n",
      "\n",
      "\n"
     ]
    }
   ],
   "source": [
    "# escalate\n",
    "\n",
    "query = \"My internet connection keeps dropping. Can you help?\"\n",
    "result = run_customer_support(query)\n",
    "print(f\"Query: {query}\")\n",
    "print(f\"Category: {result['category']}\")\n",
    "print(f\"Sentiment: {result['sentiment']}\")\n",
    "print(f\"Response: {result['response']}\")\n",
    "print(\"\\n\")"
   ]
  },
  {
   "cell_type": "code",
   "execution_count": 8,
   "id": "44efbfdf",
   "metadata": {},
   "outputs": [
    {
     "name": "stdout",
     "output_type": "stream",
     "text": [
      "Query: I need help talking to chatGPT\n",
      "Category: Category: General\n",
      "Sentiment: Neutral\n",
      "Response: Of course! I’m here to help you get started with ChatGPT.\n",
      "\n",
      "To talk to ChatGPT, just type your question or message in the chat box and send it. You can ask about almost anything—whether you need information, help with writing, explanations, or just want to have a conversation. Try to be as clear and specific as possible so I can give you the best answer.\n",
      "\n",
      "If you’re not sure how to phrase your question, you can start with something simple like, “Can you help me with…” or “What do you know about…”\n",
      "\n",
      "Let me know what you’d like to talk about or if you have a specific question!\n",
      "\n",
      "\n"
     ]
    }
   ],
   "source": [
    "# handle_technical\n",
    "\n",
    "query = \"I need help talking to chatGPT\"\n",
    "result = run_customer_support(query)\n",
    "print(f\"Query: {query}\")\n",
    "print(f\"Category: {result['category']}\")\n",
    "print(f\"Sentiment: {result['sentiment']}\")\n",
    "print(f\"Response: {result['response']}\")\n",
    "print(\"\\n\")"
   ]
  },
  {
   "cell_type": "code",
   "execution_count": 9,
   "id": "36c09719",
   "metadata": {},
   "outputs": [
    {
     "name": "stdout",
     "output_type": "stream",
     "text": [
      "Query: where can i find my receipt?\n",
      "Category: Category: Billing\n",
      "Sentiment: Neutral\n",
      "Response: Thank you for reaching out! You can usually find your receipt in the confirmation email sent to you after your purchase. Please check your inbox (and spam or junk folder, just in case) for an email from us. If you made your purchase through your account on our website or app, you may also be able to view and download your receipt by logging in and checking your order history or account settings. If you’re still unable to locate your receipt, please let us know your order details and we’ll be happy to assist further!\n",
      "\n",
      "\n"
     ]
    }
   ],
   "source": [
    "# handle_billing\n",
    "\n",
    "query = \"where can i find my receipt?\"\n",
    "result = run_customer_support(query)\n",
    "print(f\"Query: {query}\")\n",
    "print(f\"Category: {result['category']}\")\n",
    "print(f\"Sentiment: {result['sentiment']}\")\n",
    "print(f\"Response: {result['response']}\")\n",
    "print(\"\\n\")"
   ]
  },
  {
   "cell_type": "code",
   "execution_count": 10,
   "id": "845c9c0a",
   "metadata": {},
   "outputs": [
    {
     "name": "stdout",
     "output_type": "stream",
     "text": [
      "Query: What are your business hours?\n",
      "Category: Category: General\n",
      "Sentiment: Neutral\n",
      "Response: Thank you for reaching out! Our business hours are [insert your business hours here, e.g., Monday to Friday, 9:00 AM to 5:00 PM]. If you have any other questions or need assistance outside of these hours, please feel free to leave a message, and we will get back to you as soon as possible.\n"
     ]
    }
   ],
   "source": [
    "# handle_general\n",
    "\n",
    "query = \"What are your business hours?\"\n",
    "result = run_customer_support(query)\n",
    "print(f\"Query: {query}\")\n",
    "print(f\"Category: {result['category']}\")\n",
    "print(f\"Sentiment: {result['sentiment']}\")\n",
    "print(f\"Response: {result['response']}\")"
   ]
  },
  {
   "cell_type": "code",
   "execution_count": null,
   "id": "ef49fc99",
   "metadata": {},
   "outputs": [],
   "source": []
  }
 ],
 "metadata": {
  "kernelspec": {
   "display_name": "genllm (3.12.3)",
   "language": "python",
   "name": "python3"
  },
  "language_info": {
   "codemirror_mode": {
    "name": "ipython",
    "version": 3
   },
   "file_extension": ".py",
   "mimetype": "text/x-python",
   "name": "python",
   "nbconvert_exporter": "python",
   "pygments_lexer": "ipython3",
   "version": "3.12.3"
  }
 },
 "nbformat": 4,
 "nbformat_minor": 5
}
